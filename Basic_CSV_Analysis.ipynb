{
 "cells": [
  {
   "cell_type": "code",
   "execution_count": 1,
   "id": "28641e32-727a-4c40-bcb1-5431237a499e",
   "metadata": {},
   "outputs": [],
   "source": [
    "import pandas as pd"
   ]
  },
  {
   "cell_type": "code",
   "execution_count": 2,
   "id": "24a30c9a-3a6e-420d-b7df-a4d7ff705b2d",
   "metadata": {},
   "outputs": [],
   "source": [
    "data = pd.read_csv('Milwaukee_county_records - milwaukee_county_records.csv - actual drug deaths.csv')"
   ]
  },
  {
   "cell_type": "code",
   "execution_count": 3,
   "id": "9350cada-91a8-4bbd-9d2b-29b8d313494e",
   "metadata": {},
   "outputs": [
    {
     "data": {
      "text/html": [
       "<div>\n",
       "<style scoped>\n",
       "    .dataframe tbody tr th:only-of-type {\n",
       "        vertical-align: middle;\n",
       "    }\n",
       "\n",
       "    .dataframe tbody tr th {\n",
       "        vertical-align: top;\n",
       "    }\n",
       "\n",
       "    .dataframe thead th {\n",
       "        text-align: right;\n",
       "    }\n",
       "</style>\n",
       "<table border=\"1\" class=\"dataframe\">\n",
       "  <thead>\n",
       "    <tr style=\"text-align: right;\">\n",
       "      <th></th>\n",
       "      <th>CaseIdentifier</th>\n",
       "      <th>CaseNum</th>\n",
       "      <th>CaseNum_STR</th>\n",
       "      <th>CaseNumInt</th>\n",
       "      <th>CaseType</th>\n",
       "      <th>EventDate</th>\n",
       "      <th>DeathDate</th>\n",
       "      <th>Age</th>\n",
       "      <th>Sex</th>\n",
       "      <th>Race</th>\n",
       "      <th>...</th>\n",
       "      <th>DeathZip</th>\n",
       "      <th>DeathState</th>\n",
       "      <th>ESRI_OID</th>\n",
       "      <th>death_day</th>\n",
       "      <th>death_month</th>\n",
       "      <th>death_month_num</th>\n",
       "      <th>death_year</th>\n",
       "      <th>death_day_of_week</th>\n",
       "      <th>death_day_is_weekend</th>\n",
       "      <th>death_day_week_of_year</th>\n",
       "    </tr>\n",
       "  </thead>\n",
       "  <tbody>\n",
       "    <tr>\n",
       "      <th>0</th>\n",
       "      <td>208895</td>\n",
       "      <td>16-04779</td>\n",
       "      <td>16-04779</td>\n",
       "      <td>1604779</td>\n",
       "      <td>Exam</td>\n",
       "      <td>2016-09-21</td>\n",
       "      <td>2016-09-22 22:45:00</td>\n",
       "      <td>28 Years</td>\n",
       "      <td>Male</td>\n",
       "      <td>White</td>\n",
       "      <td>...</td>\n",
       "      <td>53212.0</td>\n",
       "      <td>WI</td>\n",
       "      <td>38035</td>\n",
       "      <td>22.0</td>\n",
       "      <td>September</td>\n",
       "      <td>9.0</td>\n",
       "      <td>2016.0</td>\n",
       "      <td>Thursday</td>\n",
       "      <td>False</td>\n",
       "      <td>38.0</td>\n",
       "    </tr>\n",
       "    <tr>\n",
       "      <th>1</th>\n",
       "      <td>208896</td>\n",
       "      <td>09-00198</td>\n",
       "      <td>09-00198</td>\n",
       "      <td>900198</td>\n",
       "      <td>Body Released</td>\n",
       "      <td>NaN</td>\n",
       "      <td>2009-01-14 19:25:00</td>\n",
       "      <td>81 Years</td>\n",
       "      <td>Female</td>\n",
       "      <td>White</td>\n",
       "      <td>...</td>\n",
       "      <td>53220.0</td>\n",
       "      <td>WI</td>\n",
       "      <td>19110</td>\n",
       "      <td>14.0</td>\n",
       "      <td>January</td>\n",
       "      <td>1.0</td>\n",
       "      <td>2009.0</td>\n",
       "      <td>Wednesday</td>\n",
       "      <td>False</td>\n",
       "      <td>3.0</td>\n",
       "    </tr>\n",
       "    <tr>\n",
       "      <th>2</th>\n",
       "      <td>208897</td>\n",
       "      <td>23-03215</td>\n",
       "      <td>23-03215</td>\n",
       "      <td>2303215</td>\n",
       "      <td>Body Released</td>\n",
       "      <td>NaN</td>\n",
       "      <td>2023-05-12 20:14:00</td>\n",
       "      <td>31 Years</td>\n",
       "      <td>Male</td>\n",
       "      <td>Black</td>\n",
       "      <td>...</td>\n",
       "      <td>53217.0</td>\n",
       "      <td>WI</td>\n",
       "      <td>61702</td>\n",
       "      <td>12.0</td>\n",
       "      <td>May</td>\n",
       "      <td>5.0</td>\n",
       "      <td>2023.0</td>\n",
       "      <td>Friday</td>\n",
       "      <td>False</td>\n",
       "      <td>19.0</td>\n",
       "    </tr>\n",
       "    <tr>\n",
       "      <th>3</th>\n",
       "      <td>208898</td>\n",
       "      <td>24-06212</td>\n",
       "      <td>24-06212</td>\n",
       "      <td>2406212</td>\n",
       "      <td>Body Released</td>\n",
       "      <td>NaN</td>\n",
       "      <td>2024-09-18 9:49:00</td>\n",
       "      <td>93 Years</td>\n",
       "      <td>Male</td>\n",
       "      <td>White</td>\n",
       "      <td>...</td>\n",
       "      <td>53228.0</td>\n",
       "      <td>WI</td>\n",
       "      <td>65914</td>\n",
       "      <td>18.0</td>\n",
       "      <td>September</td>\n",
       "      <td>9.0</td>\n",
       "      <td>2024.0</td>\n",
       "      <td>Wednesday</td>\n",
       "      <td>False</td>\n",
       "      <td>38.0</td>\n",
       "    </tr>\n",
       "    <tr>\n",
       "      <th>4</th>\n",
       "      <td>208899</td>\n",
       "      <td>06-00832</td>\n",
       "      <td>06-00832</td>\n",
       "      <td>600832</td>\n",
       "      <td>Body Released</td>\n",
       "      <td>NaN</td>\n",
       "      <td>2006-02-28 2:45:00</td>\n",
       "      <td>74 Years</td>\n",
       "      <td>Male</td>\n",
       "      <td>White</td>\n",
       "      <td>...</td>\n",
       "      <td>53219.0</td>\n",
       "      <td>WI</td>\n",
       "      <td>11602</td>\n",
       "      <td>28.0</td>\n",
       "      <td>February</td>\n",
       "      <td>2.0</td>\n",
       "      <td>2006.0</td>\n",
       "      <td>Tuesday</td>\n",
       "      <td>False</td>\n",
       "      <td>9.0</td>\n",
       "    </tr>\n",
       "  </tbody>\n",
       "</table>\n",
       "<p>5 rows × 30 columns</p>\n",
       "</div>"
      ],
      "text/plain": [
       "   CaseIdentifier   CaseNum CaseNum_STR  CaseNumInt       CaseType  \\\n",
       "0          208895  16-04779    16-04779     1604779           Exam   \n",
       "1          208896  09-00198    09-00198      900198  Body Released   \n",
       "2          208897  23-03215    23-03215     2303215  Body Released   \n",
       "3          208898  24-06212    24-06212     2406212  Body Released   \n",
       "4          208899  06-00832    06-00832      600832  Body Released   \n",
       "\n",
       "    EventDate            DeathDate       Age     Sex   Race  ... DeathZip  \\\n",
       "0  2016-09-21  2016-09-22 22:45:00  28 Years    Male  White  ...  53212.0   \n",
       "1         NaN  2009-01-14 19:25:00  81 Years  Female  White  ...  53220.0   \n",
       "2         NaN  2023-05-12 20:14:00  31 Years    Male  Black  ...  53217.0   \n",
       "3         NaN   2024-09-18 9:49:00  93 Years    Male  White  ...  53228.0   \n",
       "4         NaN   2006-02-28 2:45:00  74 Years    Male  White  ...  53219.0   \n",
       "\n",
       "  DeathState ESRI_OID death_day  death_month  death_month_num death_year  \\\n",
       "0         WI    38035      22.0    September              9.0     2016.0   \n",
       "1         WI    19110      14.0      January              1.0     2009.0   \n",
       "2         WI    61702      12.0          May              5.0     2023.0   \n",
       "3         WI    65914      18.0    September              9.0     2024.0   \n",
       "4         WI    11602      28.0     February              2.0     2006.0   \n",
       "\n",
       "  death_day_of_week death_day_is_weekend death_day_week_of_year  \n",
       "0          Thursday                False                   38.0  \n",
       "1         Wednesday                False                    3.0  \n",
       "2            Friday                False                   19.0  \n",
       "3         Wednesday                False                   38.0  \n",
       "4           Tuesday                False                    9.0  \n",
       "\n",
       "[5 rows x 30 columns]"
      ]
     },
     "execution_count": 3,
     "metadata": {},
     "output_type": "execute_result"
    }
   ],
   "source": [
    "data.head()"
   ]
  },
  {
   "cell_type": "code",
   "execution_count": 4,
   "id": "8ef776f5-414c-4a73-8ff9-06520640e588",
   "metadata": {},
   "outputs": [
    {
     "data": {
      "text/plain": [
       "(68476, 30)"
      ]
     },
     "execution_count": 4,
     "metadata": {},
     "output_type": "execute_result"
    }
   ],
   "source": [
    "data.shape"
   ]
  },
  {
   "cell_type": "code",
   "execution_count": 5,
   "id": "96291a4f-ddd7-411f-afc5-852abcac9531",
   "metadata": {},
   "outputs": [
    {
     "name": "stdout",
     "output_type": "stream",
     "text": [
      "<class 'pandas.core.frame.DataFrame'>\n",
      "RangeIndex: 68476 entries, 0 to 68475\n",
      "Data columns (total 30 columns):\n",
      " #   Column                  Non-Null Count  Dtype  \n",
      "---  ------                  --------------  -----  \n",
      " 0   CaseIdentifier          68476 non-null  int64  \n",
      " 1   CaseNum                 68476 non-null  object \n",
      " 2   CaseNum_STR             68476 non-null  object \n",
      " 3   CaseNumInt              68476 non-null  int64  \n",
      " 4   CaseType                68476 non-null  object \n",
      " 5   EventDate               22316 non-null  object \n",
      " 6   DeathDate               68416 non-null  object \n",
      " 7   Age                     67998 non-null  object \n",
      " 8   Sex                     68414 non-null  object \n",
      " 9   Race                    68324 non-null  object \n",
      " 10  Mode                    68179 non-null  object \n",
      " 11  CauseA                  49519 non-null  object \n",
      " 12  CauseB                  9428 non-null   object \n",
      " 13  CauseOther              22871 non-null  object \n",
      " 14  XCoordinate             68476 non-null  int64  \n",
      " 15  YCoordinate             68476 non-null  int64  \n",
      " 16  DeathType               23867 non-null  object \n",
      " 17  DeathSubType            6379 non-null   object \n",
      " 18  DeathAddr               68340 non-null  object \n",
      " 19  DeathCity               67726 non-null  object \n",
      " 20  DeathZip                65308 non-null  float64\n",
      " 21  DeathState              68148 non-null  object \n",
      " 22  ESRI_OID                68476 non-null  int64  \n",
      " 23  death_day               68416 non-null  float64\n",
      " 24  death_month             68416 non-null  object \n",
      " 25  death_month_num         68416 non-null  float64\n",
      " 26  death_year              68416 non-null  float64\n",
      " 27  death_day_of_week       68416 non-null  object \n",
      " 28  death_day_is_weekend    68476 non-null  bool   \n",
      " 29  death_day_week_of_year  68416 non-null  float64\n",
      "dtypes: bool(1), float64(5), int64(5), object(19)\n",
      "memory usage: 15.2+ MB\n"
     ]
    }
   ],
   "source": [
    "data.info()"
   ]
  },
  {
   "cell_type": "code",
   "execution_count": 6,
   "id": "9b3952d3-270b-44cb-b123-901a927a47ef",
   "metadata": {},
   "outputs": [
    {
     "data": {
      "text/plain": [
       "CaseIdentifier                0\n",
       "CaseNum                       0\n",
       "CaseNum_STR                   0\n",
       "CaseNumInt                    0\n",
       "CaseType                      0\n",
       "EventDate                 46160\n",
       "DeathDate                    60\n",
       "Age                         478\n",
       "Sex                          62\n",
       "Race                        152\n",
       "Mode                        297\n",
       "CauseA                    18957\n",
       "CauseB                    59048\n",
       "CauseOther                45605\n",
       "XCoordinate                   0\n",
       "YCoordinate                   0\n",
       "DeathType                 44609\n",
       "DeathSubType              62097\n",
       "DeathAddr                   136\n",
       "DeathCity                   750\n",
       "DeathZip                   3168\n",
       "DeathState                  328\n",
       "ESRI_OID                      0\n",
       "death_day                    60\n",
       "death_month                  60\n",
       "death_month_num              60\n",
       "death_year                   60\n",
       "death_day_of_week            60\n",
       "death_day_is_weekend          0\n",
       "death_day_week_of_year       60\n",
       "dtype: int64"
      ]
     },
     "execution_count": 6,
     "metadata": {},
     "output_type": "execute_result"
    }
   ],
   "source": [
    "data.isnull().sum()"
   ]
  },
  {
   "cell_type": "code",
   "execution_count": 7,
   "id": "97b8a1c1-e847-4ced-b01c-abf7a8d5ab3b",
   "metadata": {},
   "outputs": [
    {
     "name": "stdout",
     "output_type": "stream",
     "text": [
      "             Mode  # per\n",
      "2         Natural  43765\n",
      "0        Accident  16580\n",
      "1        Homicide   3824\n",
      "4         Suicide   2855\n",
      "5    Undetermined   1153\n",
      "3  Not Applicable      2\n"
     ]
    }
   ],
   "source": [
    "amount_per_cause_of_death = data['Mode'].groupby(data['Mode']).count().reset_index(name = '# per')\n",
    "amount_per_cause_of_death = amount_per_cause_of_death.sort_values(by='# per', ascending = False)\n",
    "print(amount_per_cause_of_death)"
   ]
  },
  {
   "cell_type": "code",
   "execution_count": 8,
   "id": "a0d3abbd-a7dd-4d66-a19f-c42dc0e461f5",
   "metadata": {},
   "outputs": [
    {
     "data": {
      "text/plain": [
       "<Axes: xlabel='Mode'>"
      ]
     },
     "execution_count": 8,
     "metadata": {},
     "output_type": "execute_result"
    },
    {
     "data": {
      "image/png": "[encoded data removed]",
      "text/plain": [
       "<Figure size 640x480 with 1 Axes>"
      ]
     },
     "metadata": {},
     "output_type": "display_data"
    }
   ],
   "source": [
    "import matplotlib as plt\n",
    "firstPlot = pd.DataFrame(amount_per_cause_of_death)\n",
    "firstPlot.plot.bar(x='Mode', y = '# per')"
   ]
  },
  {
   "cell_type": "code",
   "execution_count": null,
   "id": "565c051f-52d1-484c-9790-7bec7172e754",
   "metadata": {},
   "outputs": [],
   "source": []
  }
 ],
 "metadata": {
  "kernelspec": {
   "display_name": "Python 3 (ipykernel)",
   "language": "python",
   "name": "python3"
  },
  "language_info": {
   "codemirror_mode": {
    "name": "ipython",
    "version": 3
   },
   "file_extension": ".py",
   "mimetype": "text/x-python",
   "name": "python",
   "nbconvert_exporter": "python",
   "pygments_lexer": "ipython3",
   "version": "3.13.1"
  }
 },
 "nbformat": 4,
 "nbformat_minor": 5
}
