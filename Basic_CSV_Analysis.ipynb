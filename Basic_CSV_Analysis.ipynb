{
 "cells": [
  {
   "cell_type": "code",
   "execution_count": 1,
   "id": "28641e32-727a-4c40-bcb1-5431237a499e",
   "metadata": {},
   "outputs": [],
   "source": [
    "import pandas as pd"
   ]
  },
  {
   "cell_type": "code",
   "execution_count": 2,
   "id": "24a30c9a-3a6e-420d-b7df-a4d7ff705b2d",
   "metadata": {},
   "outputs": [
    {
     "name": "stderr",
     "output_type": "stream",
     "text": [
      "/var/folders/k3/r7m20jrj64l36xss8gj7dr1r0000gn/T/ipykernel_7167/3773183368.py:1: DtypeWarning: Columns (24,28,30) have mixed types. Specify dtype option on import or set low_memory=False.\n",
      "  data = pd.read_csv('Medical_Examiner_Cases_20250922.csv')\n"
     ]
    }
   ],
   "source": [
    "data = pd.read_csv('Medical_Examiner_Cases_20250922.csv')"
   ]
  },
  {
   "cell_type": "code",
   "execution_count": 3,
   "id": "8ef776f5-414c-4a73-8ff9-06520640e588",
   "metadata": {},
   "outputs": [
    {
     "data": {
      "text/plain": [
       "(86441, 34)"
      ]
     },
     "execution_count": 3,
     "metadata": {},
     "output_type": "execute_result"
    }
   ],
   "source": [
    "data.shape"
   ]
  },
  {
   "cell_type": "code",
   "execution_count": 4,
   "id": "96291a4f-ddd7-411f-afc5-852abcac9531",
   "metadata": {},
   "outputs": [
    {
     "name": "stdout",
     "output_type": "stream",
     "text": [
      "<class 'pandas.core.frame.DataFrame'>\n",
      "RangeIndex: 86441 entries, 0 to 86440\n",
      "Data columns (total 34 columns):\n",
      " #   Column                                   Non-Null Count  Dtype  \n",
      "---  ------                                   --------------  -----  \n",
      " 0   Row Number                               86441 non-null  int64  \n",
      " 1   Year                                     86441 non-null  int64  \n",
      " 2   Quarter                                  86441 non-null  object \n",
      " 3   Age in Years                             85931 non-null  float64\n",
      " 4   Death Date                               86439 non-null  object \n",
      " 5   Security Status                          86441 non-null  object \n",
      " 6   Gender                                   86420 non-null  object \n",
      " 7   Race                                     86194 non-null  object \n",
      " 8   Ethnic Group (Standardized)              86387 non-null  object \n",
      " 9   Manner of Death                          86440 non-null  object \n",
      " 10  Manner Type                              80744 non-null  object \n",
      " 11  Manner Type (Standardized)               86128 non-null  object \n",
      " 12  Manner Sub Type                          29277 non-null  object \n",
      " 13  Manner Sub Type (Standardized)           40334 non-null  object \n",
      " 14  Opioid Related                           86111 non-null  object \n",
      " 15  Coronado Bridge Related (Suicide Cases)  83322 non-null  object \n",
      " 16  Cause of Death                           86115 non-null  object \n",
      " 17  Contributing Conditions                  36829 non-null  object \n",
      " 18  How Injury Occurred                      54555 non-null  object \n",
      " 19  Event Date                               56029 non-null  object \n",
      " 20  Event Time                               55325 non-null  object \n",
      " 21  Event Place                              55803 non-null  object \n",
      " 22  Event Place Type                         77477 non-null  object \n",
      " 23  Event City                               50429 non-null  object \n",
      " 24  Event Zip                                46305 non-null  object \n",
      " 25  Death Place                              74785 non-null  object \n",
      " 26  Death Place Type                         86440 non-null  object \n",
      " 27  Death City                               86297 non-null  object \n",
      " 28  Death Zip                                86331 non-null  object \n",
      " 29  Res City                                 80590 non-null  object \n",
      " 30  Res Zip                                  79338 non-null  object \n",
      " 31  Age Group Option 1                       85930 non-null  object \n",
      " 32  Age Group Option 2                       85930 non-null  object \n",
      " 33  Age Group Option 3                       85930 non-null  object \n",
      "dtypes: float64(1), int64(2), object(31)\n",
      "memory usage: 22.4+ MB\n"
     ]
    }
   ],
   "source": [
    "data.info()"
   ]
  },
  {
   "cell_type": "code",
   "execution_count": 5,
   "id": "9b3952d3-270b-44cb-b123-901a927a47ef",
   "metadata": {},
   "outputs": [
    {
     "data": {
      "text/plain": [
       "Row Number                                     0\n",
       "Year                                           0\n",
       "Quarter                                        0\n",
       "Age in Years                                 510\n",
       "Death Date                                     2\n",
       "Security Status                                0\n",
       "Gender                                        21\n",
       "Race                                         247\n",
       "Ethnic Group (Standardized)                   54\n",
       "Manner of Death                                1\n",
       "Manner Type                                 5697\n",
       "Manner Type (Standardized)                   313\n",
       "Manner Sub Type                            57164\n",
       "Manner Sub Type (Standardized)             46107\n",
       "Opioid Related                               330\n",
       "Coronado Bridge Related (Suicide Cases)     3119\n",
       "Cause of Death                               326\n",
       "Contributing Conditions                    49612\n",
       "How Injury Occurred                        31886\n",
       "Event Date                                 30412\n",
       "Event Time                                 31116\n",
       "Event Place                                30638\n",
       "Event Place Type                            8964\n",
       "Event City                                 36012\n",
       "Event Zip                                  40136\n",
       "Death Place                                11656\n",
       "Death Place Type                               1\n",
       "Death City                                   144\n",
       "Death Zip                                    110\n",
       "Res City                                    5851\n",
       "Res Zip                                     7103\n",
       "Age Group Option 1                           511\n",
       "Age Group Option 2                           511\n",
       "Age Group Option 3                           511\n",
       "dtype: int64"
      ]
     },
     "execution_count": 5,
     "metadata": {},
     "output_type": "execute_result"
    }
   ],
   "source": [
    "data.isnull().sum()"
   ]
  },
  {
   "cell_type": "code",
   "execution_count": 6,
   "id": "97b8a1c1-e847-4ced-b01c-abf7a8d5ab3b",
   "metadata": {},
   "outputs": [
    {
     "name": "stdout",
     "output_type": "stream",
     "text": [
      "         Manner of Death  # per\n",
      "0               Accident  39327\n",
      "2                Natural  31183\n",
      "5                Suicide  10810\n",
      "1               Homicide   3414\n",
      "6           Undetermined   1381\n",
      "4  Pending Investigation    324\n",
      "3         Not Applicable      1\n"
     ]
    }
   ],
   "source": [
    "amount_per_cause_of_death = data['Manner of Death'].groupby(data['Manner of Death']).count().reset_index(name = '# per')\n",
    "amount_per_cause_of_death = amount_per_cause_of_death.sort_values(by='# per', ascending = False)\n",
    "print(amount_per_cause_of_death)"
   ]
  },
  {
   "cell_type": "code",
   "execution_count": 7,
   "id": "a0d3abbd-a7dd-4d66-a19f-c42dc0e461f5",
   "metadata": {},
   "outputs": [
    {
     "data": {
      "text/plain": [
       "<Axes: xlabel='Manner of Death'>"
      ]
     },
     "execution_count": 7,
     "metadata": {},
     "output_type": "execute_result"
    },
    {
     "data": {
      "image/png": "[encoded data removed]",
      "text/plain": [
       "<Figure size 640x480 with 1 Axes>"
      ]
     },
     "metadata": {},
     "output_type": "display_data"
    }
   ],
   "source": [
    "import matplotlib as plt\n",
    "firstPlot = pd.DataFrame(amount_per_cause_of_death)\n",
    "firstPlot.plot.bar(x='Manner of Death', y = '# per')"
   ]
  },
  {
   "cell_type": "code",
   "execution_count": null,
   "id": "565c051f-52d1-484c-9790-7bec7172e754",
   "metadata": {},
   "outputs": [],
   "source": []
  }
 ],
 "metadata": {
  "kernelspec": {
   "display_name": "Python 3 (ipykernel)",
   "language": "python",
   "name": "python3"
  },
  "language_info": {
   "codemirror_mode": {
    "name": "ipython",
    "version": 3
   },
   "file_extension": ".py",
   "mimetype": "text/x-python",
   "name": "python",
   "nbconvert_exporter": "python",
   "pygments_lexer": "ipython3",
   "version": "3.13.1"
  }
 },
 "nbformat": 4,
 "nbformat_minor": 5
}
